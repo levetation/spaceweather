{
 "cells": [
  {
   "cell_type": "code",
   "execution_count": 1,
   "metadata": {},
   "outputs": [],
   "source": [
    "import pandas as pd\n",
    "import numpy as np\n",
    "import matplotlib.pyplot as plt\n",
    "from matplotlib.ticker import AutoMinorLocator\n",
    "\n",
    "plt.rc('font', family='serif')"
   ]
  },
  {
   "cell_type": "code",
   "execution_count": 2,
   "metadata": {},
   "outputs": [],
   "source": [
    "def QualityPlot(x_width, y_width, dpi):\n",
    "    fig, ax = plt.subplots(1, 1, figsize=(x_width, y_width), dpi=dpi)\n",
    "    ax.tick_params(axis=\"y\", direction=\"in\", which='major', right=True)\n",
    "    ax.tick_params(axis=\"y\", direction=\"in\", which='minor', right=True) \n",
    "    ax.tick_params(axis=\"x\", direction=\"in\", which='major', top=True)\n",
    "    ax.tick_params(axis=\"x\", direction=\"in\", which='minor', top=True) \n",
    "    ax.xaxis.set_minor_locator(AutoMinorLocator())\n",
    "    ax.yaxis.set_minor_locator(AutoMinorLocator())\n",
    "    return fig, ax"
   ]
  },
  {
   "cell_type": "code",
   "execution_count": 3,
   "metadata": {},
   "outputs": [
    {
     "data": {
      "text/html": [
       "<div>\n",
       "<style scoped>\n",
       "    .dataframe tbody tr th:only-of-type {\n",
       "        vertical-align: middle;\n",
       "    }\n",
       "\n",
       "    .dataframe tbody tr th {\n",
       "        vertical-align: top;\n",
       "    }\n",
       "\n",
       "    .dataframe thead th {\n",
       "        text-align: right;\n",
       "    }\n",
       "</style>\n",
       "<table border=\"1\" class=\"dataframe\">\n",
       "  <thead>\n",
       "    <tr style=\"text-align: right;\">\n",
       "      <th></th>\n",
       "      <th>Unnamed: 0</th>\n",
       "      <th>ssn</th>\n",
       "      <th>smoothed_ssn</th>\n",
       "      <th>observed_swpc_ssn</th>\n",
       "      <th>smoothed_swpc_ssn</th>\n",
       "      <th>f10.7</th>\n",
       "      <th>smoothed_f10.7</th>\n",
       "      <th>year</th>\n",
       "    </tr>\n",
       "    <tr>\n",
       "      <th>date</th>\n",
       "      <th></th>\n",
       "      <th></th>\n",
       "      <th></th>\n",
       "      <th></th>\n",
       "      <th></th>\n",
       "      <th></th>\n",
       "      <th></th>\n",
       "      <th></th>\n",
       "    </tr>\n",
       "  </thead>\n",
       "  <tbody>\n",
       "    <tr>\n",
       "      <th>1749-01-01</th>\n",
       "      <td>0</td>\n",
       "      <td>96.7</td>\n",
       "      <td>-1.0</td>\n",
       "      <td>-1.0</td>\n",
       "      <td>-1.0</td>\n",
       "      <td>-1.0</td>\n",
       "      <td>-1.0</td>\n",
       "      <td>1749</td>\n",
       "    </tr>\n",
       "    <tr>\n",
       "      <th>1749-02-01</th>\n",
       "      <td>1</td>\n",
       "      <td>104.3</td>\n",
       "      <td>-1.0</td>\n",
       "      <td>-1.0</td>\n",
       "      <td>-1.0</td>\n",
       "      <td>-1.0</td>\n",
       "      <td>-1.0</td>\n",
       "      <td>1749</td>\n",
       "    </tr>\n",
       "    <tr>\n",
       "      <th>1749-03-01</th>\n",
       "      <td>2</td>\n",
       "      <td>116.7</td>\n",
       "      <td>-1.0</td>\n",
       "      <td>-1.0</td>\n",
       "      <td>-1.0</td>\n",
       "      <td>-1.0</td>\n",
       "      <td>-1.0</td>\n",
       "      <td>1749</td>\n",
       "    </tr>\n",
       "    <tr>\n",
       "      <th>1749-04-01</th>\n",
       "      <td>3</td>\n",
       "      <td>92.8</td>\n",
       "      <td>-1.0</td>\n",
       "      <td>-1.0</td>\n",
       "      <td>-1.0</td>\n",
       "      <td>-1.0</td>\n",
       "      <td>-1.0</td>\n",
       "      <td>1749</td>\n",
       "    </tr>\n",
       "    <tr>\n",
       "      <th>1749-05-01</th>\n",
       "      <td>4</td>\n",
       "      <td>141.7</td>\n",
       "      <td>-1.0</td>\n",
       "      <td>-1.0</td>\n",
       "      <td>-1.0</td>\n",
       "      <td>-1.0</td>\n",
       "      <td>-1.0</td>\n",
       "      <td>1749</td>\n",
       "    </tr>\n",
       "  </tbody>\n",
       "</table>\n",
       "</div>"
      ],
      "text/plain": [
       "            Unnamed: 0    ssn  smoothed_ssn  observed_swpc_ssn  \\\n",
       "date                                                             \n",
       "1749-01-01           0   96.7          -1.0               -1.0   \n",
       "1749-02-01           1  104.3          -1.0               -1.0   \n",
       "1749-03-01           2  116.7          -1.0               -1.0   \n",
       "1749-04-01           3   92.8          -1.0               -1.0   \n",
       "1749-05-01           4  141.7          -1.0               -1.0   \n",
       "\n",
       "            smoothed_swpc_ssn  f10.7  smoothed_f10.7  year  \n",
       "date                                                        \n",
       "1749-01-01               -1.0   -1.0            -1.0  1749  \n",
       "1749-02-01               -1.0   -1.0            -1.0  1749  \n",
       "1749-03-01               -1.0   -1.0            -1.0  1749  \n",
       "1749-04-01               -1.0   -1.0            -1.0  1749  \n",
       "1749-05-01               -1.0   -1.0            -1.0  1749  "
      ]
     },
     "execution_count": 3,
     "metadata": {},
     "output_type": "execute_result"
    }
   ],
   "source": [
    "data = pd.read_csv(\"observed-solar-cycle-indices.csv\")\n",
    "dt = data.rename(columns={'time-tag': 'date'})\n",
    "dt['date'] = pd.to_datetime(dt['date'], format='%Y-%m')\n",
    "dt = dt.set_index('date')\n",
    "dt['year'] = dt.index.year\n",
    "dt.head()"
   ]
  },
  {
   "cell_type": "code",
   "execution_count": 4,
   "metadata": {},
   "outputs": [
    {
     "name": "stdout",
     "output_type": "stream",
     "text": [
      "Date: 2004-10-01 00:00:00 Flux: 137.56\n"
     ]
    }
   ],
   "source": [
    "# Finding when the flux measurements are recorded.\n",
    "first_flux = dt[(dt['f10.7'] > -1.0)]\n",
    "print(\"Date:\", first_flux.index[0], \"Flux:\", first_flux['f10.7'][0])\n"
   ]
  },
  {
   "cell_type": "code",
   "execution_count": 5,
   "metadata": {},
   "outputs": [
    {
     "data": {
      "text/html": [
       "<div>\n",
       "<style scoped>\n",
       "    .dataframe tbody tr th:only-of-type {\n",
       "        vertical-align: middle;\n",
       "    }\n",
       "\n",
       "    .dataframe tbody tr th {\n",
       "        vertical-align: top;\n",
       "    }\n",
       "\n",
       "    .dataframe thead th {\n",
       "        text-align: right;\n",
       "    }\n",
       "</style>\n",
       "<table border=\"1\" class=\"dataframe\">\n",
       "  <thead>\n",
       "    <tr style=\"text-align: right;\">\n",
       "      <th></th>\n",
       "      <th>Unnamed: 0</th>\n",
       "      <th>ssn</th>\n",
       "      <th>smoothed_ssn</th>\n",
       "      <th>observed_swpc_ssn</th>\n",
       "      <th>smoothed_swpc_ssn</th>\n",
       "      <th>f10.7</th>\n",
       "      <th>smoothed_f10.7</th>\n",
       "      <th>year</th>\n",
       "    </tr>\n",
       "    <tr>\n",
       "      <th>date</th>\n",
       "      <th></th>\n",
       "      <th></th>\n",
       "      <th></th>\n",
       "      <th></th>\n",
       "      <th></th>\n",
       "      <th></th>\n",
       "      <th></th>\n",
       "      <th></th>\n",
       "    </tr>\n",
       "  </thead>\n",
       "  <tbody>\n",
       "    <tr>\n",
       "      <th>2004-10-01</th>\n",
       "      <td>3069</td>\n",
       "      <td>74.2</td>\n",
       "      <td>57.9</td>\n",
       "      <td>77.94</td>\n",
       "      <td>61.2</td>\n",
       "      <td>137.56</td>\n",
       "      <td>-1.0</td>\n",
       "      <td>2004</td>\n",
       "    </tr>\n",
       "    <tr>\n",
       "      <th>2004-11-01</th>\n",
       "      <td>3070</td>\n",
       "      <td>70.1</td>\n",
       "      <td>56.6</td>\n",
       "      <td>70.50</td>\n",
       "      <td>59.9</td>\n",
       "      <td>115.98</td>\n",
       "      <td>-1.0</td>\n",
       "      <td>2004</td>\n",
       "    </tr>\n",
       "    <tr>\n",
       "      <th>2004-12-01</th>\n",
       "      <td>3071</td>\n",
       "      <td>28.9</td>\n",
       "      <td>55.7</td>\n",
       "      <td>34.74</td>\n",
       "      <td>58.7</td>\n",
       "      <td>95.66</td>\n",
       "      <td>-1.0</td>\n",
       "      <td>2004</td>\n",
       "    </tr>\n",
       "    <tr>\n",
       "      <th>2005-01-01</th>\n",
       "      <td>3072</td>\n",
       "      <td>48.1</td>\n",
       "      <td>54.5</td>\n",
       "      <td>52.00</td>\n",
       "      <td>57.2</td>\n",
       "      <td>102.86</td>\n",
       "      <td>-1.0</td>\n",
       "      <td>2005</td>\n",
       "    </tr>\n",
       "    <tr>\n",
       "      <th>2005-02-01</th>\n",
       "      <td>3073</td>\n",
       "      <td>43.5</td>\n",
       "      <td>53.2</td>\n",
       "      <td>45.36</td>\n",
       "      <td>56.3</td>\n",
       "      <td>97.30</td>\n",
       "      <td>-1.0</td>\n",
       "      <td>2005</td>\n",
       "    </tr>\n",
       "  </tbody>\n",
       "</table>\n",
       "</div>"
      ],
      "text/plain": [
       "            Unnamed: 0   ssn  smoothed_ssn  observed_swpc_ssn  \\\n",
       "date                                                            \n",
       "2004-10-01        3069  74.2          57.9              77.94   \n",
       "2004-11-01        3070  70.1          56.6              70.50   \n",
       "2004-12-01        3071  28.9          55.7              34.74   \n",
       "2005-01-01        3072  48.1          54.5              52.00   \n",
       "2005-02-01        3073  43.5          53.2              45.36   \n",
       "\n",
       "            smoothed_swpc_ssn   f10.7  smoothed_f10.7  year  \n",
       "date                                                         \n",
       "2004-10-01               61.2  137.56            -1.0  2004  \n",
       "2004-11-01               59.9  115.98            -1.0  2004  \n",
       "2004-12-01               58.7   95.66            -1.0  2004  \n",
       "2005-01-01               57.2  102.86            -1.0  2005  \n",
       "2005-02-01               56.3   97.30            -1.0  2005  "
      ]
     },
     "execution_count": 5,
     "metadata": {},
     "output_type": "execute_result"
    }
   ],
   "source": [
    "data = dt[(dt.index > '2004-09')]\n",
    "data.head()"
   ]
  },
  {
   "cell_type": "code",
   "execution_count": 12,
   "metadata": {},
   "outputs": [
    {
     "name": "stderr",
     "output_type": "stream",
     "text": [
      "C:\\Users\\Louie\\AppData\\Local\\Temp\\ipykernel_23436\\1374876570.py:4: FutureWarning: Support for multi-dimensional indexing (e.g. `obj[:, None]`) is deprecated and will be removed in a future version.  Convert to a numpy array before indexing instead.\n",
      "  model.fit(data['f10.7'][:, np.newaxis], data['ssn'])\n"
     ]
    }
   ],
   "source": [
    "from sklearn.linear_model import LinearRegression\n",
    "model = LinearRegression(fit_intercept=True)\n",
    "\n",
    "model.fit(data['f10.7'][:, np.newaxis], data['ssn'])\n",
    "\n",
    "xfit = np.linspace(min(data['f10.7']), max(data['f10.7']), 1000)\n",
    "yfit = model.predict(xfit[:, np.newaxis])"
   ]
  },
  {
   "cell_type": "code",
   "execution_count": 18,
   "metadata": {},
   "outputs": [
    {
     "data": {
      "text/plain": [
       "[<matplotlib.lines.Line2D at 0x207d9a67dd0>]"
      ]
     },
     "execution_count": 18,
     "metadata": {},
     "output_type": "execute_result"
    },
    {
     "data": {
      "image/png": "[encoded data removed]",
      "text/plain": [
       "<Figure size 600x600 with 1 Axes>"
      ]
     },
     "metadata": {},
     "output_type": "display_data"
    }
   ],
   "source": [
    "fig, ax = QualityPlot(5, 5, 120)\n",
    "ax.set_xlabel('F10.7cm Flux (Solar flux units)', fontsize=12); \n",
    "ax.set_ylabel('Sunspot Number', fontsize=12)\n",
    "\n",
    "ax.plot(data['f10.7'], data['ssn'], '.k')\n",
    "ax.plot(xfit, yfit, '-', color='firebrick', linewidth=2)"
   ]
  }
 ],
 "metadata": {
  "kernelspec": {
   "display_name": "Python 3",
   "language": "python",
   "name": "python3"
  },
  "language_info": {
   "codemirror_mode": {
    "name": "ipython",
    "version": 3
   },
   "file_extension": ".py",
   "mimetype": "text/x-python",
   "name": "python",
   "nbconvert_exporter": "python",
   "pygments_lexer": "ipython3",
   "version": "3.11.5"
  }
 },
 "nbformat": 4,
 "nbformat_minor": 2
}
